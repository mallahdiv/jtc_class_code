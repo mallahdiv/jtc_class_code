{
 "cells": [
  {
   "cell_type": "markdown",
   "metadata": {},
   "source": [
    "# Data cleaning challenge: which product do people like best?\n",
    "\n",
    "In this challenge, you will take the role of a data scientist. You'll be given some data on customer reviews for 3 products (Products A, B, and C) and you'll have to clean it to be able to run your company's graphing code to see which product is best.\n",
    "\n",
    "### Necessary files:\n",
    "* There is a file in the `datasets` folder called 'product_tests.csv'. This contains data from 100 customer ratings each of Products A, B, and C. Each customer has a unique user id and rated one of the products on a scale from 0-5. (0 is the worst, 5 is the best) \n",
    "* There is a script that runs your company's graphing code called `compare_products.py`. This script will make a graph to help figure out which product customers like best. **This script reads in a file called 'products_clean.csv' in the datasets folder. Your overall job is to clean the data to make this file!**\n",
    "\n",
    "\n",
    "**First, import the `product_tests.csv` file using pandas and assign it to a variable** (remember to import pandas too)"
   ]
  },
  {
   "cell_type": "markdown",
   "metadata": {},
   "source": [
    "# import dataset into a varaible compare_products"
   ]
  },
  {
   "cell_type": "code",
   "execution_count": 1,
   "metadata": {},
   "outputs": [
    {
     "data": {
      "text/html": [
       "<div>\n",
       "<style scoped>\n",
       "    .dataframe tbody tr th:only-of-type {\n",
       "        vertical-align: middle;\n",
       "    }\n",
       "\n",
       "    .dataframe tbody tr th {\n",
       "        vertical-align: top;\n",
       "    }\n",
       "\n",
       "    .dataframe thead th {\n",
       "        text-align: right;\n",
       "    }\n",
       "</style>\n",
       "<table border=\"1\" class=\"dataframe\">\n",
       "  <thead>\n",
       "    <tr style=\"text-align: right;\">\n",
       "      <th></th>\n",
       "      <th>Unnamed: 0</th>\n",
       "      <th>product</th>\n",
       "      <th>rating</th>\n",
       "      <th>user_id</th>\n",
       "    </tr>\n",
       "  </thead>\n",
       "  <tbody>\n",
       "    <tr>\n",
       "      <th>0</th>\n",
       "      <td>0</td>\n",
       "      <td>Product A</td>\n",
       "      <td>4.340998</td>\n",
       "      <td>Y5JgC1</td>\n",
       "    </tr>\n",
       "    <tr>\n",
       "      <th>1</th>\n",
       "      <td>1</td>\n",
       "      <td>Product A</td>\n",
       "      <td>NaN</td>\n",
       "      <td>GRHQYF</td>\n",
       "    </tr>\n",
       "    <tr>\n",
       "      <th>2</th>\n",
       "      <td>2</td>\n",
       "      <td>Product A</td>\n",
       "      <td>2.363216</td>\n",
       "      <td>EZ96Fa</td>\n",
       "    </tr>\n",
       "    <tr>\n",
       "      <th>3</th>\n",
       "      <td>3</td>\n",
       "      <td>Product A</td>\n",
       "      <td>NaN</td>\n",
       "      <td>MzRCo4</td>\n",
       "    </tr>\n",
       "    <tr>\n",
       "      <th>4</th>\n",
       "      <td>4</td>\n",
       "      <td>Product A</td>\n",
       "      <td>4.987896</td>\n",
       "      <td>VnVWvM</td>\n",
       "    </tr>\n",
       "    <tr>\n",
       "      <th>...</th>\n",
       "      <td>...</td>\n",
       "      <td>...</td>\n",
       "      <td>...</td>\n",
       "      <td>...</td>\n",
       "    </tr>\n",
       "    <tr>\n",
       "      <th>295</th>\n",
       "      <td>95</td>\n",
       "      <td>Product C</td>\n",
       "      <td>4.332348</td>\n",
       "      <td>IkyryZ</td>\n",
       "    </tr>\n",
       "    <tr>\n",
       "      <th>296</th>\n",
       "      <td>96</td>\n",
       "      <td>Product C</td>\n",
       "      <td>4.531547</td>\n",
       "      <td>NaN</td>\n",
       "    </tr>\n",
       "    <tr>\n",
       "      <th>297</th>\n",
       "      <td>97</td>\n",
       "      <td>Product C</td>\n",
       "      <td>3.733014</td>\n",
       "      <td>shIkm7</td>\n",
       "    </tr>\n",
       "    <tr>\n",
       "      <th>298</th>\n",
       "      <td>98</td>\n",
       "      <td>Product C</td>\n",
       "      <td>NaN</td>\n",
       "      <td>4UFkhB</td>\n",
       "    </tr>\n",
       "    <tr>\n",
       "      <th>299</th>\n",
       "      <td>99</td>\n",
       "      <td>Product C</td>\n",
       "      <td>4.399626</td>\n",
       "      <td>tzILJx</td>\n",
       "    </tr>\n",
       "  </tbody>\n",
       "</table>\n",
       "<p>300 rows × 4 columns</p>\n",
       "</div>"
      ],
      "text/plain": [
       "     Unnamed: 0    product    rating user_id\n",
       "0             0  Product A  4.340998  Y5JgC1\n",
       "1             1  Product A       NaN  GRHQYF\n",
       "2             2  Product A  2.363216  EZ96Fa\n",
       "3             3  Product A       NaN  MzRCo4\n",
       "4             4  Product A  4.987896  VnVWvM\n",
       "..          ...        ...       ...     ...\n",
       "295          95  Product C  4.332348  IkyryZ\n",
       "296          96  Product C  4.531547     NaN\n",
       "297          97  Product C  3.733014  shIkm7\n",
       "298          98  Product C       NaN  4UFkhB\n",
       "299          99  Product C  4.399626  tzILJx\n",
       "\n",
       "[300 rows x 4 columns]"
      ]
     },
     "execution_count": 1,
     "metadata": {},
     "output_type": "execute_result"
    }
   ],
   "source": [
    "import pandas as pd\n",
    "compare_products = pd.read_csv('../../datasets/product_tests.csv')\n",
    "compare_products"
   ]
  },
  {
   "cell_type": "markdown",
   "metadata": {},
   "source": [
    "### Your data cleaning goals:\n",
    "\n",
    "Your goal is to make this 'products_clean.csv' file a cleaned datafile. Here are the steps you should take to make sure the data are clean\n",
    "\n",
    "1. Remove any rows where ratings (values in the `rating` column) are below 0 or above 5. These would be impossible scores so these should be removed."
   ]
  },
  {
   "cell_type": "code",
   "execution_count": 2,
   "metadata": {},
   "outputs": [],
   "source": [
    "compare_products = compare_products[compare_products.rating >= 0]\n",
    "compare_products = compare_products[compare_products.rating <= 5]"
   ]
  },
  {
   "cell_type": "code",
   "execution_count": 3,
   "metadata": {},
   "outputs": [
    {
     "data": {
      "text/html": [
       "<div>\n",
       "<style scoped>\n",
       "    .dataframe tbody tr th:only-of-type {\n",
       "        vertical-align: middle;\n",
       "    }\n",
       "\n",
       "    .dataframe tbody tr th {\n",
       "        vertical-align: top;\n",
       "    }\n",
       "\n",
       "    .dataframe thead th {\n",
       "        text-align: right;\n",
       "    }\n",
       "</style>\n",
       "<table border=\"1\" class=\"dataframe\">\n",
       "  <thead>\n",
       "    <tr style=\"text-align: right;\">\n",
       "      <th></th>\n",
       "      <th>Unnamed: 0</th>\n",
       "      <th>product</th>\n",
       "      <th>rating</th>\n",
       "      <th>user_id</th>\n",
       "    </tr>\n",
       "  </thead>\n",
       "  <tbody>\n",
       "    <tr>\n",
       "      <th>0</th>\n",
       "      <td>0</td>\n",
       "      <td>Product A</td>\n",
       "      <td>4.340998</td>\n",
       "      <td>Y5JgC1</td>\n",
       "    </tr>\n",
       "    <tr>\n",
       "      <th>2</th>\n",
       "      <td>2</td>\n",
       "      <td>Product A</td>\n",
       "      <td>2.363216</td>\n",
       "      <td>EZ96Fa</td>\n",
       "    </tr>\n",
       "    <tr>\n",
       "      <th>4</th>\n",
       "      <td>4</td>\n",
       "      <td>Product A</td>\n",
       "      <td>4.987896</td>\n",
       "      <td>VnVWvM</td>\n",
       "    </tr>\n",
       "    <tr>\n",
       "      <th>5</th>\n",
       "      <td>5</td>\n",
       "      <td>Product A</td>\n",
       "      <td>0.256108</td>\n",
       "      <td>uyTYq1</td>\n",
       "    </tr>\n",
       "    <tr>\n",
       "      <th>6</th>\n",
       "      <td>6</td>\n",
       "      <td>Product A</td>\n",
       "      <td>0.254752</td>\n",
       "      <td>6hiPYk</td>\n",
       "    </tr>\n",
       "    <tr>\n",
       "      <th>...</th>\n",
       "      <td>...</td>\n",
       "      <td>...</td>\n",
       "      <td>...</td>\n",
       "      <td>...</td>\n",
       "    </tr>\n",
       "    <tr>\n",
       "      <th>294</th>\n",
       "      <td>94</td>\n",
       "      <td>Product C</td>\n",
       "      <td>2.183499</td>\n",
       "      <td>C3cTCd</td>\n",
       "    </tr>\n",
       "    <tr>\n",
       "      <th>295</th>\n",
       "      <td>95</td>\n",
       "      <td>Product C</td>\n",
       "      <td>4.332348</td>\n",
       "      <td>IkyryZ</td>\n",
       "    </tr>\n",
       "    <tr>\n",
       "      <th>296</th>\n",
       "      <td>96</td>\n",
       "      <td>Product C</td>\n",
       "      <td>4.531547</td>\n",
       "      <td>NaN</td>\n",
       "    </tr>\n",
       "    <tr>\n",
       "      <th>297</th>\n",
       "      <td>97</td>\n",
       "      <td>Product C</td>\n",
       "      <td>3.733014</td>\n",
       "      <td>shIkm7</td>\n",
       "    </tr>\n",
       "    <tr>\n",
       "      <th>299</th>\n",
       "      <td>99</td>\n",
       "      <td>Product C</td>\n",
       "      <td>4.399626</td>\n",
       "      <td>tzILJx</td>\n",
       "    </tr>\n",
       "  </tbody>\n",
       "</table>\n",
       "<p>293 rows × 4 columns</p>\n",
       "</div>"
      ],
      "text/plain": [
       "     Unnamed: 0    product    rating user_id\n",
       "0             0  Product A  4.340998  Y5JgC1\n",
       "2             2  Product A  2.363216  EZ96Fa\n",
       "4             4  Product A  4.987896  VnVWvM\n",
       "5             5  Product A  0.256108  uyTYq1\n",
       "6             6  Product A  0.254752  6hiPYk\n",
       "..          ...        ...       ...     ...\n",
       "294          94  Product C  2.183499  C3cTCd\n",
       "295          95  Product C  4.332348  IkyryZ\n",
       "296          96  Product C  4.531547     NaN\n",
       "297          97  Product C  3.733014  shIkm7\n",
       "299          99  Product C  4.399626  tzILJx\n",
       "\n",
       "[293 rows x 4 columns]"
      ]
     },
     "execution_count": 3,
     "metadata": {},
     "output_type": "execute_result"
    }
   ],
   "source": [
    "compare_products"
   ]
  },
  {
   "cell_type": "markdown",
   "metadata": {},
   "source": [
    "2. There are some rows where the user_id is missing. Replace these with the string 'unknown user' for each missing user_id. We don't know the user id, but maybe we can still analyze these data points!"
   ]
  },
  {
   "cell_type": "code",
   "execution_count": null,
   "metadata": {},
   "outputs": [],
   "source": []
  },
  {
   "cell_type": "markdown",
   "metadata": {},
   "source": [
    "3. Filter out any rows where `product` or `rating` are missing. We can't analyze data if we don't know which product it was, or what the rating was!"
   ]
  },
  {
   "cell_type": "code",
   "execution_count": null,
   "metadata": {},
   "outputs": [],
   "source": []
  },
  {
   "cell_type": "markdown",
   "metadata": {},
   "source": [
    "4. Rename the `rating` column to `user_rating` and the `product` column to `product_id`. The company's code is built to use these standardized column names"
   ]
  },
  {
   "cell_type": "code",
   "execution_count": null,
   "metadata": {},
   "outputs": [],
   "source": []
  },
  {
   "cell_type": "markdown",
   "metadata": {},
   "source": [
    "5. Once you've done all these steps, export the data to `jtc_class_code/datasets/products_clean.csv`\n",
    "\n",
    "Make sure that the csv is named exactly this way in your folder, because the graphing code relies on this exact file path!"
   ]
  },
  {
   "cell_type": "code",
   "execution_count": null,
   "metadata": {},
   "outputs": [],
   "source": []
  },
  {
   "cell_type": "markdown",
   "metadata": {},
   "source": [
    "### Comparing the products\n",
    "\n",
    "Once you've finished, run:\n",
    "```console \n",
    "$ python compare_products.py\n",
    "``` \n",
    "\n",
    "from the command line, and if the code runs smoothly, you'll see a file called `product_chart.png` pop up to help you decide which product customers like best. \n",
    "\n",
    "Which product do you think is highest-rated?\n",
    "\n",
    "If you don't get it on the first try, don't worry! Try to use the error messages you see, and take a look at your `products_clean.csv` file to see what is being output to help you guide your data cleaning process "
   ]
  },
  {
   "cell_type": "markdown",
   "metadata": {},
   "source": [
    "## Finished and got the plot? Decided which product is highest-rated? \n",
    "\n",
    "#### Congrats on finishing the data cleaning challenge! Data cleaning is not easy! \n",
    "\n",
    "So, remember to comment all your code and push this notebook to Github"
   ]
  }
 ],
 "metadata": {
  "kernelspec": {
   "display_name": "Python 3",
   "language": "python",
   "name": "python3"
  },
  "language_info": {
   "codemirror_mode": {
    "name": "ipython",
    "version": 3
   },
   "file_extension": ".py",
   "mimetype": "text/x-python",
   "name": "python",
   "nbconvert_exporter": "python",
   "pygments_lexer": "ipython3",
   "version": "3.8.3"
  }
 },
 "nbformat": 4,
 "nbformat_minor": 4
}
