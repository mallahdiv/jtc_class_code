{
 "cells": [
  {
   "cell_type": "markdown",
   "metadata": {},
   "source": [
    "<img src=\"https://dw9zmd5y2p1va.cloudfront.net/TheMarshallProject_Logo_Primary_TrueBlack.png\" width=\"800\">\n",
    "\n",
    "# Marshall Project Survey of Incarcerated People: pandas review challenge\n",
    "\n",
    "\n",
    "In today's challenge, you'll be importing data [collected by the Marshall Project from a survey that over 8000 incarcerated people responded to](https://github.com/themarshallproject/incarcerated_survey). In this survey, incarcerated individuals responded to a set of questions about their experiences and political views. For more information about this survey, [see here](https://www.themarshallproject.org/2020/03/11/what-do-we-really-know-about-the-politics-of-people-behind-bars). One key piece is that protecting the identities and privacy of the survey respondents is **very important** here -- that is why there are no names, exact ages, or specific prison locations contained here. \n",
    "\n",
    "The challenge will involve 4 main parts:\n",
    "1. Importing the survey responses directly from online (Github) into a Pandas dataframe \n",
    "2. Cleaning the survey response data in pandas\n",
    "3. Using pandas to pull out a few key statistics from the survey responses\n",
    "4. Saving the cleaned data to csv files on your computer"
   ]
  },
  {
   "cell_type": "markdown",
   "metadata": {},
   "source": [
    "# Part 1: Importing the data\n",
    "\n",
    "It turns out that the `read_csv()` function from pandas works whether a csv file lives on your own computer or on the internet.  In this case, we'll pull the dataset [located here](https://github.com/themarshallproject/incarcerated_survey/blob/master/data/incarcerated_survey_responses-marshallproject_slate-march_2019.csv) on a Marshall Project Github repo. \n",
    "\n",
    "## 1A. Load pandas, then read in the csv file\n",
    "\n",
    "* Import pandas\n",
    "* To import the csv file, go to the [link on github to for the file](https://github.com/themarshallproject/incarcerated_survey/blob/master/data/incarcerated_survey_responses-marshallproject_slate-march_2019.csv), then click 'view raw'. This will take you to a link to the csv file itself. \n",
    "* Copy this link, and paste it (in quotes) as an argument to the `read_csv()` function.\n",
    "* Read in the csv from this link and assign it to a variable"
   ]
  },
  {
   "cell_type": "code",
   "execution_count": 1,
   "metadata": {},
   "outputs": [],
   "source": [
    "import pandas as pd\n",
    "marshall_project_survey = pd.read_csv('https://raw.githubusercontent.com/themarshallproject/incarcerated_survey/master/data/incarcerated_survey_responses-marshallproject_slate-march_2019.csv')"
   ]
  },
  {
   "cell_type": "markdown",
   "metadata": {},
   "source": [
    "## 1B. Check out the data\n",
    "\n",
    "* How many rows & columns are in the dataframe?\n",
    "* What are the names of all the columns?\n",
    "* Check to make sure you can figure out what type of data is in each column (i.e. numeric, strings, etc)"
   ]
  },
  {
   "cell_type": "code",
   "execution_count": 2,
   "metadata": {},
   "outputs": [
    {
     "data": {
      "text/plain": [
       "(8266, 37)"
      ]
     },
     "execution_count": 2,
     "metadata": {},
     "output_type": "execute_result"
    }
   ],
   "source": [
    "marshall_project_survey.shape"
   ]
  },
  {
   "cell_type": "code",
   "execution_count": 3,
   "metadata": {},
   "outputs": [
    {
     "data": {
      "text/plain": [
       "Index(['age', 'identifies_as_man', 'identifies_as_woman',\n",
       "       'identifies_as_hispanic_or_latinx', 'identifies_as_black',\n",
       "       'identifies_as_white', 'highest_education_level',\n",
       "       'length_in_this_facility', 'state', 'party',\n",
       "       'how_often_discuss_politics', 'how_get_news', 'ever_voted',\n",
       "       'direction_country_headed',\n",
       "       'how_often_officials_acting_in_your_interest',\n",
       "       'which_party_for_cj_reform', 'stance_on_assault_weapons_ban',\n",
       "       'stance_on_marijuana_legalization',\n",
       "       'stance_on_tightening_border_security', 'stance_on_raise_min_wage',\n",
       "       'race_affects_politics', 'should_incarcerated_vote',\n",
       "       'incarceration_impacts_motivation_to_vote',\n",
       "       'politics_changed_since_incarcerated',\n",
       "       'cj_important_issue_eliminating_mandatory_mins',\n",
       "       'cj_important_issue_reducing_racial_bias',\n",
       "       'cj_important_issue_abolishing_death_penalty',\n",
       "       'cj_important_issue_lowering_incarceration_rates_rural_communities',\n",
       "       'cj_important_issue_improving_prison_conds',\n",
       "       'cj_important_issue_restoring_voting_rights',\n",
       "       'cj_important_issue_reducing_prison_pop',\n",
       "       'cj_important_issue_ending_war_on_drugs',\n",
       "       'cj_important_issue_ending_private_prisons',\n",
       "       'cj_important_issue_lowering_sentences_violent_crimes',\n",
       "       'cj_important_issue_raising_wages_incarcerated_workers', 'who_vote_for',\n",
       "       'approve_disapprove_trump'],\n",
       "      dtype='object')"
      ]
     },
     "execution_count": 3,
     "metadata": {},
     "output_type": "execute_result"
    }
   ],
   "source": [
    "marshall_project_survey.columns"
   ]
  },
  {
   "cell_type": "code",
   "execution_count": 4,
   "metadata": {},
   "outputs": [
    {
     "name": "stdout",
     "output_type": "stream",
     "text": [
      "<class 'pandas.core.frame.DataFrame'>\n",
      "RangeIndex: 8266 entries, 0 to 8265\n",
      "Data columns (total 37 columns):\n",
      " #   Column                                                             Non-Null Count  Dtype \n",
      "---  ------                                                             --------------  ----- \n",
      " 0   age                                                                5618 non-null   object\n",
      " 1   identifies_as_man                                                  6240 non-null   object\n",
      " 2   identifies_as_woman                                                6240 non-null   object\n",
      " 3   identifies_as_hispanic_or_latinx                                   6240 non-null   object\n",
      " 4   identifies_as_black                                                6240 non-null   object\n",
      " 5   identifies_as_white                                                6240 non-null   object\n",
      " 6   highest_education_level                                            5618 non-null   object\n",
      " 7   length_in_this_facility                                            5618 non-null   object\n",
      " 8   state                                                              2936 non-null   object\n",
      " 9   party                                                              7617 non-null   object\n",
      " 10  how_often_discuss_politics                                         8265 non-null   object\n",
      " 11  how_get_news                                                       8210 non-null   object\n",
      " 12  ever_voted                                                         8070 non-null   object\n",
      " 13  direction_country_headed                                           8043 non-null   object\n",
      " 14  how_often_officials_acting_in_your_interest                        8005 non-null   object\n",
      " 15  which_party_for_cj_reform                                          7973 non-null   object\n",
      " 16  stance_on_assault_weapons_ban                                      7956 non-null   object\n",
      " 17  stance_on_marijuana_legalization                                   7953 non-null   object\n",
      " 18  stance_on_tightening_border_security                               7943 non-null   object\n",
      " 19  stance_on_raise_min_wage                                           7933 non-null   object\n",
      " 20  race_affects_politics                                              7822 non-null   object\n",
      " 21  should_incarcerated_vote                                           7833 non-null   object\n",
      " 22  incarceration_impacts_motivation_to_vote                           7741 non-null   object\n",
      " 23  politics_changed_since_incarcerated                                7733 non-null   object\n",
      " 24  cj_important_issue_eliminating_mandatory_mins                      8266 non-null   int64 \n",
      " 25  cj_important_issue_reducing_racial_bias                            8266 non-null   int64 \n",
      " 26  cj_important_issue_abolishing_death_penalty                        8266 non-null   int64 \n",
      " 27  cj_important_issue_lowering_incarceration_rates_rural_communities  8266 non-null   int64 \n",
      " 28  cj_important_issue_improving_prison_conds                          8266 non-null   int64 \n",
      " 29  cj_important_issue_restoring_voting_rights                         8266 non-null   int64 \n",
      " 30  cj_important_issue_reducing_prison_pop                             8266 non-null   int64 \n",
      " 31  cj_important_issue_ending_war_on_drugs                             8266 non-null   int64 \n",
      " 32  cj_important_issue_ending_private_prisons                          8266 non-null   int64 \n",
      " 33  cj_important_issue_lowering_sentences_violent_crimes               8266 non-null   int64 \n",
      " 34  cj_important_issue_raising_wages_incarcerated_workers              8266 non-null   int64 \n",
      " 35  who_vote_for                                                       7564 non-null   object\n",
      " 36  approve_disapprove_trump                                           7637 non-null   object\n",
      "dtypes: int64(11), object(26)\n",
      "memory usage: 2.3+ MB\n"
     ]
    }
   ],
   "source": [
    "marshall_project_survey.info()"
   ]
  },
  {
   "cell_type": "markdown",
   "metadata": {},
   "source": [
    "# Part 2: Clean the data\n",
    "\n",
    "## 2A: Make a dataframe with only the specific columns in `col_list` below"
   ]
  },
  {
   "cell_type": "code",
   "execution_count": 5,
   "metadata": {},
   "outputs": [],
   "source": [
    "col_list = ['identifies_as_woman', 'identifies_as_hispanic_or_latinx', 'identifies_as_black',\n",
    "            'identifies_as_white', 'highest_education_level', 'state', 'direction_country_headed',\n",
    "            'should_incarcerated_vote', 'incarceration_impacts_motivation_to_vote']"
   ]
  },
  {
   "cell_type": "code",
   "execution_count": 6,
   "metadata": {},
   "outputs": [
    {
     "data": {
      "text/html": [
       "<div>\n",
       "<style scoped>\n",
       "    .dataframe tbody tr th:only-of-type {\n",
       "        vertical-align: middle;\n",
       "    }\n",
       "\n",
       "    .dataframe tbody tr th {\n",
       "        vertical-align: top;\n",
       "    }\n",
       "\n",
       "    .dataframe thead th {\n",
       "        text-align: right;\n",
       "    }\n",
       "</style>\n",
       "<table border=\"1\" class=\"dataframe\">\n",
       "  <thead>\n",
       "    <tr style=\"text-align: right;\">\n",
       "      <th></th>\n",
       "      <th>identifies_as_woman</th>\n",
       "      <th>identifies_as_hispanic_or_latinx</th>\n",
       "      <th>identifies_as_black</th>\n",
       "      <th>identifies_as_white</th>\n",
       "      <th>highest_education_level</th>\n",
       "      <th>state</th>\n",
       "      <th>direction_country_headed</th>\n",
       "      <th>should_incarcerated_vote</th>\n",
       "      <th>incarceration_impacts_motivation_to_vote</th>\n",
       "    </tr>\n",
       "  </thead>\n",
       "  <tbody>\n",
       "    <tr>\n",
       "      <th>0</th>\n",
       "      <td>False</td>\n",
       "      <td>False</td>\n",
       "      <td>False</td>\n",
       "      <td>False</td>\n",
       "      <td>NaN</td>\n",
       "      <td>NaN</td>\n",
       "      <td>No opinion</td>\n",
       "      <td>NaN</td>\n",
       "      <td>NaN</td>\n",
       "    </tr>\n",
       "    <tr>\n",
       "      <th>1</th>\n",
       "      <td>False</td>\n",
       "      <td>False</td>\n",
       "      <td>False</td>\n",
       "      <td>False</td>\n",
       "      <td>NaN</td>\n",
       "      <td>NaN</td>\n",
       "      <td>No opinion</td>\n",
       "      <td>NaN</td>\n",
       "      <td>NaN</td>\n",
       "    </tr>\n",
       "    <tr>\n",
       "      <th>2</th>\n",
       "      <td>False</td>\n",
       "      <td>False</td>\n",
       "      <td>False</td>\n",
       "      <td>False</td>\n",
       "      <td>NaN</td>\n",
       "      <td>NaN</td>\n",
       "      <td>Wrong track</td>\n",
       "      <td>Yes</td>\n",
       "      <td>NaN</td>\n",
       "    </tr>\n",
       "    <tr>\n",
       "      <th>3</th>\n",
       "      <td>False</td>\n",
       "      <td>False</td>\n",
       "      <td>False</td>\n",
       "      <td>False</td>\n",
       "      <td>NaN</td>\n",
       "      <td>NaN</td>\n",
       "      <td>NaN</td>\n",
       "      <td>NaN</td>\n",
       "      <td>NaN</td>\n",
       "    </tr>\n",
       "    <tr>\n",
       "      <th>4</th>\n",
       "      <td>False</td>\n",
       "      <td>False</td>\n",
       "      <td>False</td>\n",
       "      <td>False</td>\n",
       "      <td>NaN</td>\n",
       "      <td>NaN</td>\n",
       "      <td>NaN</td>\n",
       "      <td>NaN</td>\n",
       "      <td>NaN</td>\n",
       "    </tr>\n",
       "    <tr>\n",
       "      <th>...</th>\n",
       "      <td>...</td>\n",
       "      <td>...</td>\n",
       "      <td>...</td>\n",
       "      <td>...</td>\n",
       "      <td>...</td>\n",
       "      <td>...</td>\n",
       "      <td>...</td>\n",
       "      <td>...</td>\n",
       "      <td>...</td>\n",
       "    </tr>\n",
       "    <tr>\n",
       "      <th>8261</th>\n",
       "      <td>NaN</td>\n",
       "      <td>NaN</td>\n",
       "      <td>NaN</td>\n",
       "      <td>NaN</td>\n",
       "      <td>NaN</td>\n",
       "      <td>NaN</td>\n",
       "      <td>In between</td>\n",
       "      <td>Yes</td>\n",
       "      <td>Increased my motivation to vote</td>\n",
       "    </tr>\n",
       "    <tr>\n",
       "      <th>8262</th>\n",
       "      <td>NaN</td>\n",
       "      <td>NaN</td>\n",
       "      <td>NaN</td>\n",
       "      <td>NaN</td>\n",
       "      <td>NaN</td>\n",
       "      <td>NaN</td>\n",
       "      <td>In between</td>\n",
       "      <td>No</td>\n",
       "      <td>Increased my motivation to vote</td>\n",
       "    </tr>\n",
       "    <tr>\n",
       "      <th>8263</th>\n",
       "      <td>NaN</td>\n",
       "      <td>NaN</td>\n",
       "      <td>NaN</td>\n",
       "      <td>NaN</td>\n",
       "      <td>NaN</td>\n",
       "      <td>NaN</td>\n",
       "      <td>In between</td>\n",
       "      <td>Yes</td>\n",
       "      <td>Increased my motivation to vote</td>\n",
       "    </tr>\n",
       "    <tr>\n",
       "      <th>8264</th>\n",
       "      <td>NaN</td>\n",
       "      <td>NaN</td>\n",
       "      <td>NaN</td>\n",
       "      <td>NaN</td>\n",
       "      <td>NaN</td>\n",
       "      <td>NaN</td>\n",
       "      <td>In between</td>\n",
       "      <td>Yes</td>\n",
       "      <td>Slightly increased my motivation to vote</td>\n",
       "    </tr>\n",
       "    <tr>\n",
       "      <th>8265</th>\n",
       "      <td>NaN</td>\n",
       "      <td>NaN</td>\n",
       "      <td>NaN</td>\n",
       "      <td>NaN</td>\n",
       "      <td>NaN</td>\n",
       "      <td>NaN</td>\n",
       "      <td>In between</td>\n",
       "      <td>Yes</td>\n",
       "      <td>Slightly increased my motivation to vote</td>\n",
       "    </tr>\n",
       "  </tbody>\n",
       "</table>\n",
       "<p>8266 rows × 9 columns</p>\n",
       "</div>"
      ],
      "text/plain": [
       "     identifies_as_woman identifies_as_hispanic_or_latinx identifies_as_black  \\\n",
       "0                  False                            False               False   \n",
       "1                  False                            False               False   \n",
       "2                  False                            False               False   \n",
       "3                  False                            False               False   \n",
       "4                  False                            False               False   \n",
       "...                  ...                              ...                 ...   \n",
       "8261                 NaN                              NaN                 NaN   \n",
       "8262                 NaN                              NaN                 NaN   \n",
       "8263                 NaN                              NaN                 NaN   \n",
       "8264                 NaN                              NaN                 NaN   \n",
       "8265                 NaN                              NaN                 NaN   \n",
       "\n",
       "     identifies_as_white highest_education_level state  \\\n",
       "0                  False                     NaN   NaN   \n",
       "1                  False                     NaN   NaN   \n",
       "2                  False                     NaN   NaN   \n",
       "3                  False                     NaN   NaN   \n",
       "4                  False                     NaN   NaN   \n",
       "...                  ...                     ...   ...   \n",
       "8261                 NaN                     NaN   NaN   \n",
       "8262                 NaN                     NaN   NaN   \n",
       "8263                 NaN                     NaN   NaN   \n",
       "8264                 NaN                     NaN   NaN   \n",
       "8265                 NaN                     NaN   NaN   \n",
       "\n",
       "     direction_country_headed should_incarcerated_vote  \\\n",
       "0                  No opinion                      NaN   \n",
       "1                  No opinion                      NaN   \n",
       "2                 Wrong track                      Yes   \n",
       "3                         NaN                      NaN   \n",
       "4                         NaN                      NaN   \n",
       "...                       ...                      ...   \n",
       "8261               In between                      Yes   \n",
       "8262               In between                       No   \n",
       "8263               In between                      Yes   \n",
       "8264               In between                      Yes   \n",
       "8265               In between                      Yes   \n",
       "\n",
       "      incarceration_impacts_motivation_to_vote  \n",
       "0                                          NaN  \n",
       "1                                          NaN  \n",
       "2                                          NaN  \n",
       "3                                          NaN  \n",
       "4                                          NaN  \n",
       "...                                        ...  \n",
       "8261           Increased my motivation to vote  \n",
       "8262           Increased my motivation to vote  \n",
       "8263           Increased my motivation to vote  \n",
       "8264  Slightly increased my motivation to vote  \n",
       "8265  Slightly increased my motivation to vote  \n",
       "\n",
       "[8266 rows x 9 columns]"
      ]
     },
     "execution_count": 6,
     "metadata": {},
     "output_type": "execute_result"
    }
   ],
   "source": [
    "updated_marshall = marshall_project_survey[col_list]\n",
    "updated_marshall"
   ]
  },
  {
   "cell_type": "markdown",
   "metadata": {},
   "source": [
    "## 2B. Convert string columns to boolean\n",
    "\n",
    "There are several columns where all of the non-missing values are either 'True' or 'False', but the data are stored as strings, not booleans. \n",
    "* Convert the 4 `identifies_as...` columns to booleans using the `.astype('boolean')` method for each Pandas series. [Check out the documentation](https://pandas.pydata.org/docs/reference/api/pandas.Series.astype.html) if you're wondering how to go about doing this. \n",
    "    * **Hint:** you'll probably want to figure this out with 1 column first, then apply the same code 3 more times to the other columns\n",
    "* Then, check to make sure that these columns are boolean datatype"
   ]
  },
  {
   "cell_type": "code",
   "execution_count": 7,
   "metadata": {},
   "outputs": [
    {
     "name": "stderr",
     "output_type": "stream",
     "text": [
      "<ipython-input-7-923d37ea81f5>:1: SettingWithCopyWarning: \n",
      "A value is trying to be set on a copy of a slice from a DataFrame.\n",
      "Try using .loc[row_indexer,col_indexer] = value instead\n",
      "\n",
      "See the caveats in the documentation: https://pandas.pydata.org/pandas-docs/stable/user_guide/indexing.html#returning-a-view-versus-a-copy\n",
      "  updated_marshall['identifies_as_woman']= updated_marshall['identifies_as_woman'].astype('boolean' )\n",
      "<ipython-input-7-923d37ea81f5>:2: SettingWithCopyWarning: \n",
      "A value is trying to be set on a copy of a slice from a DataFrame.\n",
      "Try using .loc[row_indexer,col_indexer] = value instead\n",
      "\n",
      "See the caveats in the documentation: https://pandas.pydata.org/pandas-docs/stable/user_guide/indexing.html#returning-a-view-versus-a-copy\n",
      "  updated_marshall['identifies_as_hispanic_or_latinx']= updated_marshall['identifies_as_hispanic_or_latinx'].astype('boolean' )\n",
      "<ipython-input-7-923d37ea81f5>:3: SettingWithCopyWarning: \n",
      "A value is trying to be set on a copy of a slice from a DataFrame.\n",
      "Try using .loc[row_indexer,col_indexer] = value instead\n",
      "\n",
      "See the caveats in the documentation: https://pandas.pydata.org/pandas-docs/stable/user_guide/indexing.html#returning-a-view-versus-a-copy\n",
      "  updated_marshall['identifies_as_black']= updated_marshall['identifies_as_black'].astype('boolean' )\n",
      "<ipython-input-7-923d37ea81f5>:4: SettingWithCopyWarning: \n",
      "A value is trying to be set on a copy of a slice from a DataFrame.\n",
      "Try using .loc[row_indexer,col_indexer] = value instead\n",
      "\n",
      "See the caveats in the documentation: https://pandas.pydata.org/pandas-docs/stable/user_guide/indexing.html#returning-a-view-versus-a-copy\n",
      "  updated_marshall['identifies_as_white']= updated_marshall['identifies_as_white'].astype('boolean' )\n"
     ]
    }
   ],
   "source": [
    "updated_marshall['identifies_as_woman']= updated_marshall['identifies_as_woman'].astype('boolean' )\n",
    "updated_marshall['identifies_as_hispanic_or_latinx']= updated_marshall['identifies_as_hispanic_or_latinx'].astype('boolean' )\n",
    "updated_marshall['identifies_as_black']= updated_marshall['identifies_as_black'].astype('boolean' )\n",
    "updated_marshall['identifies_as_white']= updated_marshall['identifies_as_white'].astype('boolean' )"
   ]
  },
  {
   "cell_type": "code",
   "execution_count": 8,
   "metadata": {},
   "outputs": [
    {
     "name": "stdout",
     "output_type": "stream",
     "text": [
      "<class 'pandas.core.frame.DataFrame'>\n",
      "RangeIndex: 8266 entries, 0 to 8265\n",
      "Data columns (total 9 columns):\n",
      " #   Column                                    Non-Null Count  Dtype  \n",
      "---  ------                                    --------------  -----  \n",
      " 0   identifies_as_woman                       6240 non-null   boolean\n",
      " 1   identifies_as_hispanic_or_latinx          6240 non-null   boolean\n",
      " 2   identifies_as_black                       6240 non-null   boolean\n",
      " 3   identifies_as_white                       6240 non-null   boolean\n",
      " 4   highest_education_level                   5618 non-null   object \n",
      " 5   state                                     2936 non-null   object \n",
      " 6   direction_country_headed                  8043 non-null   object \n",
      " 7   should_incarcerated_vote                  7833 non-null   object \n",
      " 8   incarceration_impacts_motivation_to_vote  7741 non-null   object \n",
      "dtypes: boolean(4), object(5)\n",
      "memory usage: 387.6+ KB\n"
     ]
    }
   ],
   "source": [
    "updated_marshall.info()"
   ]
  },
  {
   "cell_type": "markdown",
   "metadata": {},
   "source": [
    "## 2C: Deal the missing data\n",
    "\n",
    "* First, identify how many missing datapoints there are in each column. \n",
    "* For now, let's say we only want to work with data where the participant has shared whether they identify as a woman (i.e. remove rows where `identifies_as_woman` is missing)"
   ]
  },
  {
   "cell_type": "code",
   "execution_count": 9,
   "metadata": {},
   "outputs": [
    {
     "data": {
      "text/plain": [
       "identifies_as_woman                            0\n",
       "identifies_as_hispanic_or_latinx               0\n",
       "identifies_as_black                            0\n",
       "identifies_as_white                            0\n",
       "highest_education_level                      622\n",
       "state                                       3304\n",
       "direction_country_headed                     222\n",
       "should_incarcerated_vote                     431\n",
       "incarceration_impacts_motivation_to_vote     522\n",
       "dtype: int64"
      ]
     },
     "execution_count": 9,
     "metadata": {},
     "output_type": "execute_result"
    }
   ],
   "source": [
    "updated_marshall.isnull().sum()\n",
    "updated_marshall = updated_marshall[-updated_marshall['identifies_as_woman'].isnull()]\n",
    "updated_marshall.isnull().sum()"
   ]
  },
  {
   "cell_type": "markdown",
   "metadata": {},
   "source": [
    "# 3. Get some descriptive statistics"
   ]
  },
  {
   "cell_type": "markdown",
   "metadata": {},
   "source": [
    "Now that we've cleaned the data just a little bit, let's start to understand who is included in this dataset and how they answered some of the questions. \n",
    "\n",
    "## 3A. Who are the survey respondents?\n",
    "Your goal for this part is to fill in all the blank pieces of info:\n",
    "\n",
    "* Number of survey respondents who identify as a woman:\n",
    "* **Percent** of survey respondents who identify as a woman:\n",
    "* Percent of survey respondents who identify as Black:\n",
    "* Percent of survey respondents who identify as White:\n",
    "* Percent of survey respondents who identify as Hispanic or Latinx:\n",
    "* From which state are the most survey respondents from:\n",
    "* Percent of survey respondents where the information on their state is missing:\n",
    "\n",
    "\n",
    "**Hint1:** you can use the `.value_counts()` method on each DataFrame column to get this info. Check out [the documentation](https://pandas.pydata.org/pandas-docs/stable/reference/api/pandas.Series.value_counts.html) for more info, and **make sure to set `dropna=False`** so you can see how many missing datapoints there are\n",
    "\n",
    "**Hint2:** To convert numbers of respondents to percentages, you can divide by the total number of respondents (which is the total number of rows in the DataFrame). Then multiply this by 100\n"
   ]
  },
  {
   "cell_type": "code",
   "execution_count": 10,
   "metadata": {},
   "outputs": [
    {
     "data": {
      "text/plain": [
       "False    5800\n",
       "True      440\n",
       "NaN         0\n",
       "Name: identifies_as_woman, dtype: Int64"
      ]
     },
     "execution_count": 10,
     "metadata": {},
     "output_type": "execute_result"
    }
   ],
   "source": [
    "updated_marshall['identifies_as_woman'].value_counts(dropna = False)\n"
   ]
  },
  {
   "cell_type": "code",
   "execution_count": 11,
   "metadata": {},
   "outputs": [
    {
     "data": {
      "text/plain": [
       "6240"
      ]
     },
     "execution_count": 11,
     "metadata": {},
     "output_type": "execute_result"
    }
   ],
   "source": [
    "updated_marshall.shape[0]"
   ]
  },
  {
   "cell_type": "code",
   "execution_count": 12,
   "metadata": {},
   "outputs": [
    {
     "data": {
      "text/plain": [
       "False    92.948718\n",
       "True      7.051282\n",
       "NaN       0.000000\n",
       "Name: identifies_as_woman, dtype: float64"
      ]
     },
     "execution_count": 12,
     "metadata": {},
     "output_type": "execute_result"
    }
   ],
   "source": [
    "100 * updated_marshall['identifies_as_woman'].value_counts(dropna = False) / updated_marshall.shape[0]"
   ]
  },
  {
   "cell_type": "code",
   "execution_count": 13,
   "metadata": {},
   "outputs": [
    {
     "data": {
      "text/plain": [
       "False    84.391026\n",
       "True     15.608974\n",
       "NaN       0.000000\n",
       "Name: identifies_as_black, dtype: float64"
      ]
     },
     "execution_count": 13,
     "metadata": {},
     "output_type": "execute_result"
    }
   ],
   "source": [
    "100 * updated_marshall['identifies_as_black'].value_counts(dropna = False) / updated_marshall.shape[0]"
   ]
  },
  {
   "cell_type": "code",
   "execution_count": 14,
   "metadata": {},
   "outputs": [
    {
     "data": {
      "text/plain": [
       "True     62.067308\n",
       "False    37.932692\n",
       "NaN       0.000000\n",
       "Name: identifies_as_white, dtype: float64"
      ]
     },
     "execution_count": 14,
     "metadata": {},
     "output_type": "execute_result"
    }
   ],
   "source": [
    "100 * updated_marshall['identifies_as_white'].value_counts(dropna = False) / updated_marshall.shape[0]"
   ]
  },
  {
   "cell_type": "code",
   "execution_count": 15,
   "metadata": {
    "scrolled": true
   },
   "outputs": [
    {
     "data": {
      "text/plain": [
       "False    93.028846\n",
       "True      6.971154\n",
       "NaN       0.000000\n",
       "Name: identifies_as_hispanic_or_latinx, dtype: float64"
      ]
     },
     "execution_count": 15,
     "metadata": {},
     "output_type": "execute_result"
    }
   ],
   "source": [
    "100 * updated_marshall['identifies_as_hispanic_or_latinx'].value_counts(dropna = False) / updated_marshall.shape[0]"
   ]
  },
  {
   "cell_type": "code",
   "execution_count": 16,
   "metadata": {},
   "outputs": [
    {
     "ename": "SyntaxError",
     "evalue": "invalid syntax (<ipython-input-16-42f19f3c75b7>, line 1)",
     "output_type": "error",
     "traceback": [
      "\u001b[1;36m  File \u001b[1;32m\"<ipython-input-16-42f19f3c75b7>\"\u001b[1;36m, line \u001b[1;32m1\u001b[0m\n\u001b[1;33m    ***updated_marshall = updated_marshall[-updated_marshall['state'].isnull()]\u001b[0m\n\u001b[1;37m    ^\u001b[0m\n\u001b[1;31mSyntaxError\u001b[0m\u001b[1;31m:\u001b[0m invalid syntax\n"
     ]
    }
   ],
   "source": [
    "***updated_marshall = updated_marshall[-updated_marshall['state'].isnull()]\n",
    "updated_marshall['state']\n"
   ]
  },
  {
   "cell_type": "code",
   "execution_count": null,
   "metadata": {
    "scrolled": true
   },
   "outputs": [],
   "source": [
    "updated_marshall['state'].value_counts()"
   ]
  },
  {
   "cell_type": "code",
   "execution_count": null,
   "metadata": {},
   "outputs": [],
   "source": [
    "updated_marshall['state'].mode()"
   ]
  },
  {
   "cell_type": "code",
   "execution_count": null,
   "metadata": {},
   "outputs": [],
   "source": [
    "100 * updated_marshall['state'].value_counts(dropna = False) / updated_marshall.shape[0]"
   ]
  },
  {
   "cell_type": "markdown",
   "metadata": {},
   "source": [
    "## 3B. How do views on voting and policy vary among survey respondents?\n",
    "\n",
    "For each of the questions below, use the `.value_counts(dropna=False)` method to come up with your own answer. Back it up with specific proportions or percentages from the data!"
   ]
  },
  {
   "cell_type": "markdown",
   "metadata": {},
   "source": [
    "#### Do most of the survey respondents think that people who are incarcerated should be able to vote? (use the `should_incarcerated_vote` column)\n",
    "\n",
    "*These are responses to the question, 'Should people who are currently incarcerated be allowed to vote, no matter their crime?'*"
   ]
  },
  {
   "cell_type": "code",
   "execution_count": null,
   "metadata": {},
   "outputs": [],
   "source": [
    "100 * updated_marshall['should_incarcerated_vote'].value_counts(dropna = False) / updated_marshall.shape[0]"
   ]
  },
  {
   "cell_type": "markdown",
   "metadata": {},
   "source": [
    "#### Do most of the survey respondents think that the country is headed in the right direction? (use the `direction_country_headed` column)\n",
    "\n",
    "*Responses to the question, 'In general, do you think things in our country are headed in the right direction or do you feel things are headed down the wrong track?'*"
   ]
  },
  {
   "cell_type": "code",
   "execution_count": null,
   "metadata": {},
   "outputs": [],
   "source": [
    "100 * updated_marshall['direction_country_headed'].value_counts(dropna = False) / updated_marshall.shape[0]"
   ]
  },
  {
   "cell_type": "markdown",
   "metadata": {},
   "source": [
    "#### Does incarceration change motivation to vote? If so, how? (use the `incarceration_impacts_motivation_to_vote` column)\n",
    "\n",
    "*Responses to the question, 'What impact has incarceration had on your motivation to vote?\t'*"
   ]
  },
  {
   "cell_type": "code",
   "execution_count": null,
   "metadata": {},
   "outputs": [],
   "source": [
    "100 * updated_marshall['incarceration_impacts_motivation_to_vote'].value_counts(dropna = False) / updated_marshall.shape[0]"
   ]
  },
  {
   "cell_type": "markdown",
   "metadata": {},
   "source": [
    "# Part 4: Save the data to csv\n",
    "\n",
    "Save the DataFrame you cleaned for later use to the `jtc_class_code/datasets` folder on your computer. Give it a clear file name so you know what it is. (use `index=False`) if you don't want the extra column"
   ]
  },
  {
   "cell_type": "code",
   "execution_count": null,
   "metadata": {},
   "outputs": [],
   "source": [
    "updated_marshall.to_csv(r'jtc_class_code/datasets\\updated_marshall_incarcerated_survey.csv')"
   ]
  },
  {
   "cell_type": "markdown",
   "metadata": {},
   "source": [
    "# Wrap-up\n",
    "\n",
    "Nice job with this challenge! You reviewed a lot of key pandas concepts, and practiced a lot of core data science skills in inspecting & cleaning the data and extracting relevant information.\n",
    "\n",
    "Remember to comment your code and push to your Github repo!"
   ]
  },
  {
   "cell_type": "code",
   "execution_count": null,
   "metadata": {},
   "outputs": [],
   "source": []
  }
 ],
 "metadata": {
  "kernelspec": {
   "display_name": "Python 3",
   "language": "python",
   "name": "python3"
  },
  "language_info": {
   "codemirror_mode": {
    "name": "ipython",
    "version": 3
   },
   "file_extension": ".py",
   "mimetype": "text/x-python",
   "name": "python",
   "nbconvert_exporter": "python",
   "pygments_lexer": "ipython3",
   "version": "3.8.3"
  }
 },
 "nbformat": 4,
 "nbformat_minor": 4
}
