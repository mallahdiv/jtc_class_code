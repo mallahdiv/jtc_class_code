{
 "cells": [
  {
   "cell_type": "code",
   "execution_count": 1,
   "metadata": {},
   "outputs": [],
   "source": [
    "# Intro to Programming Using Python - Assignment #3\n",
    "# Completed by:\n",
    "\n",
    "# Be sure to read the instructions carefully!\n",
    "\n",
    "# 1. Create three dictionaries, each one will contain information about a particular student: Steve, Alice and Tyler\n",
    "#   a. Assign each dictionary to a variable – eg. steve, alice and tyler\n",
    "#   b. Create the following keys: name, homework, quizzes, and tests\n",
    "#   c. Set the value of the name key to the name of the student – e.g. Steve's name should be \"Steve\"\n",
    "#   d. Set the other keys – e.g. homework, quizzes, and tests – to empty lists (we'll fill them in later)\n",
    "#   e. Print these empty dictionaries\n",
    "steve = {'name':'Steve', 'homework': [] , 'quizzes':[], 'tests':[]}\n",
    "alice = {'name':'Alice', 'homework':[] , 'quizzes':[], 'tests':[]}\n",
    "tyler = {'name':'Tyler', 'homework': [], 'quizzes':[], 'tests':[]}\n",
    "\n",
    "# print(steve)\n",
    "# print(alice)\n",
    "# print(tyler)\n",
    "# print()\n",
    "\n",
    "\n",
    "\n",
    "\n",
    "\n",
    "\n",
    "\n",
    "\n",
    "\n",
    "\n",
    "\n",
    "\n",
    "\n",
    "# BONUS: Move all of the functions out of this file and into another Python file \n",
    "# called grading_functions.py. Then import them into this file so that it runs.#   b. Inside the function, create a temporary empty list called results to store each student's grade\n"
   ]
  },
  {
   "cell_type": "code",
   "execution_count": 2,
   "metadata": {},
   "outputs": [],
   "source": [
    "# 2. Now fill in the dictionaries above with the following scores and print the dictionaries:\n",
    "# Steve\n",
    "#   Homework: 90, 97, 75, 92\n",
    "steve['homework'] = [90, 97, 75, 92]\n",
    "#   Quizzes: 88, 40, 94\n",
    "steve['quizzes'] = [88, 40, 94]\n",
    "#   Tests: 75, 90\n",
    "steve['tests'] = [75, 90]\n",
    "# print(steve)\n",
    "# print()\n",
    "# Alice\n",
    "#   Homework: 100, 92, 98, 100\n",
    "alice['homework'] = [100, 92, 98, 100]\n",
    "#   Quizzes: 82, 83, 91\n",
    "alice['quizzes'] = [82, 83, 91]\n",
    "#   Tests: 89, 97\n",
    "alice['tests'] = [89, 97]\n",
    "# print(alice)\n",
    "# print()\n",
    "# # Tyler\n",
    "#   Homework: 0, 87, 75, 22\n",
    "tyler['homework'] = [0, 87, 75, 22]\n",
    "#   Quizzes: 0, 75, 78\n",
    "tyler['quizzes'] = [0, 75, 78]\n",
    "#   Tests: 100, 100\n",
    "tyler['tests'] = [100, 100]\n",
    "# print(tyler)\n",
    "# print()\n",
    "\n"
   ]
  },
  {
   "cell_type": "code",
   "execution_count": 3,
   "metadata": {},
   "outputs": [],
   "source": [
    "# 3. Create a list called students that contains your three students and print the list\n",
    "students = [steve, alice, tyler]\n",
    "\n",
    "# print(students)\n"
   ]
  },
  {
   "cell_type": "code",
   "execution_count": 4,
   "metadata": {},
   "outputs": [
    {
     "name": "stdout",
     "output_type": "stream",
     "text": [
      "Student:  Steve\n",
      "\n",
      "Student:  Alice\n",
      "\n",
      "Student:  Tyler\n",
      "\n",
      "Homework:  [90, 97, 75, 92]\n",
      "\n",
      "Homework:  [100, 92, 98, 100]\n",
      "\n",
      "Homework:  [0, 87, 75, 22]\n",
      "\n",
      "Quizzes:  [88, 40, 94]\n",
      "\n",
      "Quizzes:  [82, 83, 91]\n",
      "\n",
      "Quizzes:  [0, 75, 78]\n",
      "\n",
      "Tests:  [75, 90]\n",
      "\n",
      "Tests:  [89, 97]\n",
      "\n",
      "Tests:  [100, 100]\n",
      "\n"
     ]
    }
   ],
   "source": [
    "# 4. Loop over your students list and print out the following for each student:\n",
    "#   - Name: (print out the student's name)\n",
    "for student in students:\n",
    "    print('Student: ', student['name'])\n",
    "    print()\n",
    "#   - Homework: (print out the student's homework)\n",
    "for student in students:\n",
    "\tprint('Homework: ', student['homework'])\n",
    "\tprint()\n",
    "#   - Quizzes: (print out the student's quizzes)\n",
    "for student in students:\n",
    "\tprint('Quizzes: ', student['quizzes'])\n",
    "\tprint()\n",
    "#   - Tests: (print out the student's tests ",
    ")\n",
    "for student in students:\n",
    "\tprint('Tests: ', student['tests'])\n",
    "\tprint()\n"
   ]
  },
  {
   "cell_type": "code",
   "execution_count": 5,
   "metadata": {},
   "outputs": [
    {
     "name": "stdout",
     "output_type": "stream",
     "text": [
      "51.0\n"
     ]
    }
   ],
   "source": [
    "# 5. Define a function to calculate the average of a list\n",
    "#   a. Define a function called average() that has one argument, a list of numbers\n",
    "#   b. Inside the function, use the built-in Python functions sum() and len() to calculate the average\n",
    "#   c. Return the result ",
    "\n",
    "#   d. Test it out to make sure it works\n",
    "def average(num):\n",
    "\taverage = sum(num) / len(num)\n",
    "\treturn average \n",
    "print(average([0, 75, 78]))"
   ]
  },
  {
   "cell_type": "code",
   "execution_count": 6,
   "metadata": {},
   "outputs": [
    {
     "name": "stdout",
     "output_type": "stream",
     "text": [
      "80.55\n",
      "\n"
     ]
    }
   ],
   "source": [
    "# 6. Write a function to calculate the weighted average score for a student\n",
    "#   a. Define a function called get_weighted_average() that takes one argument: student (see the dictionaries we created above)\n",
    "#   b. Use your average() function to calculate the average of the student's homework, quizzes, and test scores\n",
    "#   d. Return the weighted average score for each student (homework is 10%, quizzes are 30%, and tests are 60% ",
    " of the grade).\n",
    "#   e. Test out your get_weighted_average() function on each student\n",
    "def get_weighted_average(student):\n",
    "\thomework_avg = average(student['homework']) * .1\n",
    "\tquizzes_avg = average(student['quizzes']) * .3\n",
    "\ttest_avg = average(student['tests']) * .6\n",
    "\treturn homework_avg + quizzes_avg + test_avg\n",
    "print(get_weighted_average(steve))\n",
    "print()\n"
   ]
  },
  {
   "cell_type": "code",
   "execution_count": 7,
   "metadata": {},
   "outputs": [
    {
     "name": "stdout",
     "output_type": "stream",
     "text": [
      "B\n",
      "\n",
      "A\n",
      "\n",
      "C\n",
      "\n"
     ]
    }
   ],
   "source": [
    "# 7. Write a function to convert a grade into a letter grade\n",
    "#   a. Define a function called get_letter_grade() that has one argument called score (a number)\n",
    "#   b. Inside your function, use if / elif /else to return the following letter grades:\n",
    "#       - 90 or above: “A\"\n",
    "#       - 80 or above: “B\"\n",
    "#       - 70 or above: “C\"\n",
    "#       - 60 or above: “D\"\n",
    "#       - Below 60: “F\"\n",
    "def get_letter_grade(score):\n",
    "\tif score >=90:\n",
    "\t\treturn 'A'\n",
    "\telif score >= 80:\n",
    "\t\treturn 'B'\n",
    "\telif score >= 70:\n",
    "\t\treturn 'C'\n",
    "\telif score >= 60:\n",
    "\t\treturn 'D'\n",
    "\telse:\n",
    "\t\treturn 'F'\n",
    "\n",
    "#   c. Test it out on a few different numbers to make sure it works properly\n",
    "#   d. Use a for loop to get each student's letter grade\n",
    "for student in students:\n",
    "\tscore = get_weighted_average(student)\n",
    "\tprint(get_letter_grade(score))\n",
    "\tprint()\n"
   ]
  },
  {
   "cell_type": "code",
   "execution_count": 8,
   "metadata": {},
   "outputs": [
    {
     "name": "stdout",
     "output_type": "stream",
     "text": [
      "83.86666666666666\n",
      "\n"
     ]
    }
   ],
   "source": [
    "# 8. Write a function to calculate the class average\n",
    "#   a. Create a function called get_class_average() that has one argument, students (a list of dictionaries)\n",
    "#   b. Inside the function, create a temporary empty list called results to store each student's grade\n",
    "#   c. Loop over the list of students, appending each student's grade into your results list\n",
    "#   d. Finally, return the average of the results\n",
    "#   e. Test out your function by printing out the class average\n",
    "\n",
    "\n",
    "def get_class_average(student):\n",
    "\tresults = []\n",
    "\tfor student in students:\n",
    "\t\tscore = get_weighted_average(student)\n",
    "\t\tresults.append(score)\n",
    "\taverage = sum(results) / len(results)\n",
    "\treturn average\n",
    "print(get_class_average(students))\n",
    "print()"
   ]
  },
  {
   "cell_type": "code",
   "execution_count": 9,
   "metadata": {},
   "outputs": [
    {
     "name": "stdout",
     "output_type": "stream",
     "text": [
      "[{'name': 'Steve', 'homework': [90, 97, 75, 92], 'quizzes': [88, 40, 94], 'tests': [75, 90]}, {'name': 'Alice', 'homework': [100, 92, 98, 100], 'quizzes': [82, 83, 91], 'tests': [89, 97]}, {'name': 'Tyler', 'homework': [0, 87, 75, 22], 'quizzes': [0, 75, 78], 'tests': [100, 100]}, {'name': 'Thomas', 'homework': [90, 85, 80, 0], 'quizzes': [80, 100, 97], 'tests': [85, 90]}]\n",
      "84.54375\n"
     ]
    }
   ],
   "source": [
    "# 9. The class has now a new student, Thomas, with the following grades:\n",
    "#   Homework: 90, 85, 80, 0\n",
    "#   Quizzes: 80, 100, 87\n",
    "#   Tests: 85, 90\n",
    "#   a. Create a dictionary for Thomas (as you did in #1) \n",
    "thomas = {'name':'Thomas', 'homework': [] , 'quizzes':[], 'tests':[]}\n",
    "thomas['homework'] = [90, 85, 80, 0]\n",
    "thomas['quizzes'] = [80, 100, 97]\n",
    "thomas['tests']= [85, 90]\n",
    "#   b. add him to the class, by appending the dictionary to your list of students\n",
    "students.append(thomas)\n",
    "print(students)\n",
    "#   c. Calculate the new class average and print your results\n",
    "print(get_class_average(students))\n"
   ]
  }
 ],
 "metadata": {
  "kernelspec": {
   "display_name": "Python 3",
   "language": "python",
   "name": "python3"
  },
  "language_info": {
   "codemirror_mode": {
    "name": "ipython",
    "version": 3
   },
   "file_extension": ".py",
   "mimetype": "text/x-python",
   "name": "python",
   "nbconvert_exporter": "python",
   "pygments_lexer": "ipython3",
   "version": "3.8.3"
  }
 },
 "nbformat": 4,
 "nbformat_minor": 4
}
